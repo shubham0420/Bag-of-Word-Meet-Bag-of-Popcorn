{
 "cells": [
  {
   "cell_type": "markdown",
   "metadata": {},
   "source": [
    "# Bag of Words meet Bag of Popcorn"
   ]
  },
  {
   "cell_type": "markdown",
   "metadata": {},
   "source": [
    "This is a solution of **Bag of Words Model** for The **$Kaggle$** competition **Bag of Words meet Bag of Popcorn**"
   ]
  },
  {
   "cell_type": "markdown",
   "metadata": {},
   "source": [
    "The labeled data set consists of 50,000 IMDB movie reviews, specially selected for sentiment analysis. The sentiment of reviews is binary, meaning the IMDB rating < 5 results in a sentiment score of 0, and rating >=7 have a sentiment score of 1. No individual movie has more than 30 reviews. The 25,000 review labeled training set does not include any of the same movies as the 25,000 review test set. In addition, there are another 50,000 IMDB reviews provided without any rating labels.\n",
    "\n",
    "# File descriptions\n",
    "\n",
    "**labeledTrainData** - The labeled training set. The file is tab-delimited and has a header row followed by 25,000 rows containing an id, sentiment, and text for each review.  \n",
    "\n",
    "**testData** - The test set. The tab-delimited file has a header row followed by 25,000 rows containing an id and text for each review. Your task is to predict the sentiment for each one.\n",
    "\n",
    "**unlabeledTrainData** - An extra training set with no labels. The tab-delimited file has a header row followed by 50,000 rows containing an id and text for each review. \n",
    "\n",
    "**sampleSubmission** - A comma-delimited sample submission file in the correct format.\n"
   ]
  },
  {
   "cell_type": "code",
   "execution_count": 4,
   "metadata": {
    "collapsed": true
   },
   "outputs": [],
   "source": [
    "import pandas as pd"
   ]
  },
  {
   "cell_type": "markdown",
   "metadata": {},
   "source": [
    "Let us first load the dataset. Dataset is provided in a .tsv format file so we will open dataset via pandas library."
   ]
  },
  {
   "cell_type": "code",
   "execution_count": 6,
   "metadata": {
    "collapsed": false
   },
   "outputs": [],
   "source": [
    "train = pd.read_csv('labeledTrainData.tsv',delimiter = '\\t')"
   ]
  },
  {
   "cell_type": "code",
   "execution_count": 7,
   "metadata": {
    "collapsed": false
   },
   "outputs": [
    {
     "data": {
      "text/html": [
       "<div>\n",
       "<table border=\"1\" class=\"dataframe\">\n",
       "  <thead>\n",
       "    <tr style=\"text-align: right;\">\n",
       "      <th></th>\n",
       "      <th>id</th>\n",
       "      <th>sentiment</th>\n",
       "      <th>review</th>\n",
       "    </tr>\n",
       "  </thead>\n",
       "  <tbody>\n",
       "    <tr>\n",
       "      <th>0</th>\n",
       "      <td>5814_8</td>\n",
       "      <td>1</td>\n",
       "      <td>With all this stuff going down at the moment w...</td>\n",
       "    </tr>\n",
       "    <tr>\n",
       "      <th>1</th>\n",
       "      <td>2381_9</td>\n",
       "      <td>1</td>\n",
       "      <td>\\The Classic War of the Worlds\\\" by Timothy Hi...</td>\n",
       "    </tr>\n",
       "    <tr>\n",
       "      <th>2</th>\n",
       "      <td>7759_3</td>\n",
       "      <td>0</td>\n",
       "      <td>The film starts with a manager (Nicholas Bell)...</td>\n",
       "    </tr>\n",
       "    <tr>\n",
       "      <th>3</th>\n",
       "      <td>3630_4</td>\n",
       "      <td>0</td>\n",
       "      <td>It must be assumed that those who praised this...</td>\n",
       "    </tr>\n",
       "    <tr>\n",
       "      <th>4</th>\n",
       "      <td>9495_8</td>\n",
       "      <td>1</td>\n",
       "      <td>Superbly trashy and wondrously unpretentious 8...</td>\n",
       "    </tr>\n",
       "  </tbody>\n",
       "</table>\n",
       "</div>"
      ],
      "text/plain": [
       "       id  sentiment                                             review\n",
       "0  5814_8          1  With all this stuff going down at the moment w...\n",
       "1  2381_9          1  \\The Classic War of the Worlds\\\" by Timothy Hi...\n",
       "2  7759_3          0  The film starts with a manager (Nicholas Bell)...\n",
       "3  3630_4          0  It must be assumed that those who praised this...\n",
       "4  9495_8          1  Superbly trashy and wondrously unpretentious 8..."
      ]
     },
     "execution_count": 7,
     "metadata": {},
     "output_type": "execute_result"
    }
   ],
   "source": [
    "train.head()"
   ]
  },
  {
   "cell_type": "markdown",
   "metadata": {},
   "source": [
    "Let's see the first review"
   ]
  },
  {
   "cell_type": "code",
   "execution_count": 8,
   "metadata": {
    "collapsed": false
   },
   "outputs": [
    {
     "data": {
      "text/plain": [
       "\"With all this stuff going down at the moment with MJ i've started listening to his music, watching the odd documentary here and there, watched The Wiz and watched Moonwalker again. Maybe i just want to get a certain insight into this guy who i thought was really cool in the eighties just to maybe make up my mind whether he is guilty or innocent. Moonwalker is part biography, part feature film which i remember going to see at the cinema when it was originally released. Some of it has subtle messages about MJ's feeling towards the press and also the obvious message of drugs are bad m'kay.<br /><br />Visually impressive but of course this is all about Michael Jackson so unless you remotely like MJ in anyway then you are going to hate this and find it boring. Some may call MJ an egotist for consenting to the making of this movie BUT MJ and most of his fans would say that he made it for the fans which if true is really nice of him.<br /><br />The actual feature film bit when it finally starts is only on for 20 minutes or so excluding the Smooth Criminal sequence and Joe Pesci is convincing as a psychopathic all powerful drug lord. Why he wants MJ dead so bad is beyond me. Because MJ overheard his plans? Nah, Joe Pesci's character ranted that he wanted people to know it is he who is supplying drugs etc so i dunno, maybe he just hates MJ's music.<br /><br />Lots of cool things in this like MJ turning into a car and a robot and the whole Speed Demon sequence. Also, the director must have had the patience of a saint when it came to filming the kiddy Bad sequence as usually directors hate working with one kid let alone a whole bunch of them performing a complex dance scene.<br /><br />Bottom line, this movie is for people who like MJ on one level or another (which i think is most people). If not, then stay away. It does try and give off a wholesome message and ironically MJ's bestest buddy in this movie is a girl! Michael Jackson is truly one of the most talented people ever to grace this planet but is he guilty? Well, with all the attention i've gave this subject....hmmm well i don't know because people can be different behind closed doors, i know this for a fact. He is either an extremely nice but stupid guy or one of the most sickest liars. I hope he is not the latter.\""
      ]
     },
     "execution_count": 8,
     "metadata": {},
     "output_type": "execute_result"
    }
   ],
   "source": [
    "train.review[0]"
   ]
  },
  {
   "cell_type": "markdown",
   "metadata": {},
   "source": [
    "As we can see the review seems to be in html format. We need to convert the html format into plain text. We can do this via Regular Expression or via BeautifulSoup. BeautifulSoup should be preffered for such tasks because in regex we have to check various conditions."
   ]
  },
  {
   "cell_type": "code",
   "execution_count": 9,
   "metadata": {
    "collapsed": true
   },
   "outputs": [],
   "source": [
    "from bs4 import BeautifulSoup"
   ]
  },
  {
   "cell_type": "code",
   "execution_count": 11,
   "metadata": {
    "collapsed": false
   },
   "outputs": [
    {
     "data": {
      "text/plain": [
       "u\"The film starts with a manager (Nicholas Bell) giving welcome investors (Robert Carradine) to Primal Park . A secret project mutating a primal animal using fossilized DNA, like \\xa8Jurassik Park\\xa8, and some scientists resurrect one of nature's most fearsome predators, the Sabretooth tiger or Smilodon . Scientific ambition turns deadly, however, and when the high voltage fence is opened the creature escape and begins savagely stalking its prey - the human visitors , tourists and scientific.Meanwhile some youngsters enter in the restricted area of the security center and are attacked by a pack of large pre-historical animals which are deadlier and bigger . In addition , a security agent (Stacy Haiduk) and her mate (Brian Wimmer) fight hardly against the carnivorous Smilodons. The Sabretooths, themselves , of course, are the real star stars and they are astounding terrifyingly though not convincing. The giant animals savagely are stalking its prey and the group run afoul and fight against one nature's most fearsome predators. Furthermore a third Sabretooth more dangerous and slow stalks its victims.The movie delivers the goods with lots of blood and gore as beheading, hair-raising chills,full of scares when the Sabretooths appear with mediocre special effects.The story provides exciting and stirring entertainment but it results to be quite boring .The giant animals are majority made by computer generator and seem totally lousy .Middling performances though the players reacting appropriately to becoming food.Actors give vigorously physical performances dodging the beasts ,running,bound and leaps or dangling over walls . And it packs a ridiculous final deadly scene. No for small kids by realistic,gory and violent attack scenes . Other films about Sabretooths or Smilodon are the following : \\xa8Sabretooth(2002)\\xa8by James R Hickox with Vanessa Angel, David Keith and John Rhys Davies and the much better \\xa810.000 BC(2006)\\xa8 by Roland Emmerich with with Steven Strait, Cliff Curtis and Camilla Belle. This motion picture filled with bloody moments is badly directed by George Miller and with no originality because takes too many elements from previous films. Miller is an Australian director usually working for television (Tidal wave, Journey to the center of the earth, and many others) and occasionally for cinema ( The man from Snowy river, Zeus and Roxanne,Robinson Crusoe ). Rating : Below average, bottom of barrel.\""
      ]
     },
     "execution_count": 11,
     "metadata": {},
     "output_type": "execute_result"
    }
   ],
   "source": [
    "BeautifulSoup(train['review'][2]).get_text()"
   ]
  },
  {
   "cell_type": "markdown",
   "metadata": {},
   "source": [
    "We can see that all the html tags have been removed. Now its time for us to remove all the '(' , '\\', ',' etc. from the text since all these things have no meaning in our simple model of bag of words. To remove these we will use regular expression library called re ( we can't use beautiful soup because its for html tags) . Regular expression can be used for removing, replacing or substituting text."
   ]
  },
  {
   "cell_type": "code",
   "execution_count": 25,
   "metadata": {
    "collapsed": false
   },
   "outputs": [
    {
     "data": {
      "text/plain": [
       "u'The film starts with a manager  Nicholas Bell  giving welcome investors  Robert Carradine  to Primal Park   A secret project mutating a primal animal using fossilized DNA  like  Jurassik Park   and some scientists resurrect one of nature s most fearsome predators  the Sabretooth tiger or Smilodon   Scientific ambition turns deadly  however  and when the high voltage fence is opened the creature escape and begins savagely stalking its prey   the human visitors   tourists and scientific Meanwhile some youngsters enter in the restricted area of the security center and are attacked by a pack of large pre historical animals which are deadlier and bigger   In addition   a security agent  Stacy Haiduk  and her mate  Brian Wimmer  fight hardly against the carnivorous Smilodons  The Sabretooths  themselves   of course  are the real star stars and they are astounding terrifyingly though not convincing  The giant animals savagely are stalking its prey and the group run afoul and fight against one nature s most fearsome predators  Furthermore a third Sabretooth more dangerous and slow stalks its victims The movie delivers the goods with lots of blood and gore as beheading  hair raising chills full of scares when the Sabretooths appear with mediocre special effects The story provides exciting and stirring entertainment but it results to be quite boring  The giant animals are majority made by computer generator and seem totally lousy  Middling performances though the players reacting appropriately to becoming food Actors give vigorously physical performances dodging the beasts  running bound and leaps or dangling over walls   And it packs a ridiculous final deadly scene  No for small kids by realistic gory and violent attack scenes   Other films about Sabretooths or Smilodon are the following    Sabretooth       by James R Hickox with Vanessa Angel  David Keith and John Rhys Davies and the much better         BC        by Roland Emmerich with with Steven Strait  Cliff Curtis and Camilla Belle  This motion picture filled with bloody moments is badly directed by George Miller and with no originality because takes too many elements from previous films  Miller is an Australian director usually working for television  Tidal wave  Journey to the center of the earth  and many others  and occasionally for cinema   The man from Snowy river  Zeus and Roxanne Robinson Crusoe    Rating   Below average  bottom of barrel '"
      ]
     },
     "execution_count": 25,
     "metadata": {},
     "output_type": "execute_result"
    }
   ],
   "source": [
    "text = BeautifulSoup(train['review'][2]).get_text()\n",
    "import re\n",
    "text = re.sub('[^a-zA-Z]',' ',text)\n",
    "text"
   ]
  },
  {
   "cell_type": "code",
   "execution_count": null,
   "metadata": {
    "collapsed": false
   },
   "outputs": [],
   "source": []
  },
  {
   "cell_type": "markdown",
   "metadata": {},
   "source": [
    "The words like 'the', 'of','and' etc. are called **stopwords** . These words are generally removed because they occur in every scentece and have less significance. "
   ]
  },
  {
   "cell_type": "code",
   "execution_count": 26,
   "metadata": {
    "collapsed": false
   },
   "outputs": [
    {
     "data": {
      "text/plain": [
       "[u'film',\n",
       " u'starts',\n",
       " u'manager',\n",
       " u'',\n",
       " u'nicholas',\n",
       " u'bell',\n",
       " u'',\n",
       " u'giving',\n",
       " u'welcome',\n",
       " u'investors',\n",
       " u'',\n",
       " u'robert',\n",
       " u'carradine',\n",
       " u'',\n",
       " u'primal',\n",
       " u'park',\n",
       " u'',\n",
       " u'',\n",
       " u'secret',\n",
       " u'project',\n",
       " u'mutating',\n",
       " u'primal',\n",
       " u'animal',\n",
       " u'using',\n",
       " u'fossilized',\n",
       " u'dna',\n",
       " u'',\n",
       " u'like',\n",
       " u'',\n",
       " u'jurassik',\n",
       " u'park',\n",
       " u'',\n",
       " u'',\n",
       " u'scientists',\n",
       " u'resurrect',\n",
       " u'one',\n",
       " u'nature',\n",
       " u'fearsome',\n",
       " u'predators',\n",
       " u'',\n",
       " u'sabretooth',\n",
       " u'tiger',\n",
       " u'smilodon',\n",
       " u'',\n",
       " u'',\n",
       " u'scientific',\n",
       " u'ambition',\n",
       " u'turns',\n",
       " u'deadly',\n",
       " u'',\n",
       " u'however',\n",
       " u'',\n",
       " u'high',\n",
       " u'voltage',\n",
       " u'fence',\n",
       " u'opened',\n",
       " u'creature',\n",
       " u'escape',\n",
       " u'begins',\n",
       " u'savagely',\n",
       " u'stalking',\n",
       " u'prey',\n",
       " u'',\n",
       " u'',\n",
       " u'human',\n",
       " u'visitors',\n",
       " u'',\n",
       " u'',\n",
       " u'tourists',\n",
       " u'scientific',\n",
       " u'meanwhile',\n",
       " u'youngsters',\n",
       " u'enter',\n",
       " u'restricted',\n",
       " u'area',\n",
       " u'security',\n",
       " u'center',\n",
       " u'attacked',\n",
       " u'pack',\n",
       " u'large',\n",
       " u'pre',\n",
       " u'historical',\n",
       " u'animals',\n",
       " u'deadlier',\n",
       " u'bigger',\n",
       " u'',\n",
       " u'',\n",
       " u'addition',\n",
       " u'',\n",
       " u'',\n",
       " u'security',\n",
       " u'agent',\n",
       " u'',\n",
       " u'stacy',\n",
       " u'haiduk',\n",
       " u'',\n",
       " u'mate',\n",
       " u'',\n",
       " u'brian',\n",
       " u'wimmer',\n",
       " u'',\n",
       " u'fight',\n",
       " u'hardly',\n",
       " u'carnivorous',\n",
       " u'smilodons',\n",
       " u'',\n",
       " u'sabretooths',\n",
       " u'',\n",
       " u'',\n",
       " u'',\n",
       " u'course',\n",
       " u'',\n",
       " u'real',\n",
       " u'star',\n",
       " u'stars',\n",
       " u'astounding',\n",
       " u'terrifyingly',\n",
       " u'though',\n",
       " u'convincing',\n",
       " u'',\n",
       " u'giant',\n",
       " u'animals',\n",
       " u'savagely',\n",
       " u'stalking',\n",
       " u'prey',\n",
       " u'group',\n",
       " u'run',\n",
       " u'afoul',\n",
       " u'fight',\n",
       " u'one',\n",
       " u'nature',\n",
       " u'fearsome',\n",
       " u'predators',\n",
       " u'',\n",
       " u'furthermore',\n",
       " u'third',\n",
       " u'sabretooth',\n",
       " u'dangerous',\n",
       " u'slow',\n",
       " u'stalks',\n",
       " u'victims',\n",
       " u'movie',\n",
       " u'delivers',\n",
       " u'goods',\n",
       " u'lots',\n",
       " u'blood',\n",
       " u'gore',\n",
       " u'beheading',\n",
       " u'',\n",
       " u'hair',\n",
       " u'raising',\n",
       " u'chills',\n",
       " u'full',\n",
       " u'scares',\n",
       " u'sabretooths',\n",
       " u'appear',\n",
       " u'mediocre',\n",
       " u'special',\n",
       " u'effects',\n",
       " u'story',\n",
       " u'provides',\n",
       " u'exciting',\n",
       " u'stirring',\n",
       " u'entertainment',\n",
       " u'results',\n",
       " u'quite',\n",
       " u'boring',\n",
       " u'',\n",
       " u'giant',\n",
       " u'animals',\n",
       " u'majority',\n",
       " u'made',\n",
       " u'computer',\n",
       " u'generator',\n",
       " u'seem',\n",
       " u'totally',\n",
       " u'lousy',\n",
       " u'',\n",
       " u'middling',\n",
       " u'performances',\n",
       " u'though',\n",
       " u'players',\n",
       " u'reacting',\n",
       " u'appropriately',\n",
       " u'becoming',\n",
       " u'food',\n",
       " u'actors',\n",
       " u'give',\n",
       " u'vigorously',\n",
       " u'physical',\n",
       " u'performances',\n",
       " u'dodging',\n",
       " u'beasts',\n",
       " u'',\n",
       " u'running',\n",
       " u'bound',\n",
       " u'leaps',\n",
       " u'dangling',\n",
       " u'walls',\n",
       " u'',\n",
       " u'',\n",
       " u'packs',\n",
       " u'ridiculous',\n",
       " u'final',\n",
       " u'deadly',\n",
       " u'scene',\n",
       " u'',\n",
       " u'small',\n",
       " u'kids',\n",
       " u'realistic',\n",
       " u'gory',\n",
       " u'violent',\n",
       " u'attack',\n",
       " u'scenes',\n",
       " u'',\n",
       " u'',\n",
       " u'films',\n",
       " u'sabretooths',\n",
       " u'smilodon',\n",
       " u'following',\n",
       " u'',\n",
       " u'',\n",
       " u'',\n",
       " u'sabretooth',\n",
       " u'',\n",
       " u'',\n",
       " u'',\n",
       " u'',\n",
       " u'',\n",
       " u'',\n",
       " u'james',\n",
       " u'r',\n",
       " u'hickox',\n",
       " u'vanessa',\n",
       " u'angel',\n",
       " u'',\n",
       " u'david',\n",
       " u'keith',\n",
       " u'john',\n",
       " u'rhys',\n",
       " u'davies',\n",
       " u'much',\n",
       " u'better',\n",
       " u'',\n",
       " u'',\n",
       " u'',\n",
       " u'',\n",
       " u'',\n",
       " u'',\n",
       " u'',\n",
       " u'',\n",
       " u'bc',\n",
       " u'',\n",
       " u'',\n",
       " u'',\n",
       " u'',\n",
       " u'',\n",
       " u'',\n",
       " u'',\n",
       " u'roland',\n",
       " u'emmerich',\n",
       " u'steven',\n",
       " u'strait',\n",
       " u'',\n",
       " u'cliff',\n",
       " u'curtis',\n",
       " u'camilla',\n",
       " u'belle',\n",
       " u'',\n",
       " u'motion',\n",
       " u'picture',\n",
       " u'filled',\n",
       " u'bloody',\n",
       " u'moments',\n",
       " u'badly',\n",
       " u'directed',\n",
       " u'george',\n",
       " u'miller',\n",
       " u'originality',\n",
       " u'takes',\n",
       " u'many',\n",
       " u'elements',\n",
       " u'previous',\n",
       " u'films',\n",
       " u'',\n",
       " u'miller',\n",
       " u'australian',\n",
       " u'director',\n",
       " u'usually',\n",
       " u'working',\n",
       " u'television',\n",
       " u'',\n",
       " u'tidal',\n",
       " u'wave',\n",
       " u'',\n",
       " u'journey',\n",
       " u'center',\n",
       " u'earth',\n",
       " u'',\n",
       " u'many',\n",
       " u'others',\n",
       " u'',\n",
       " u'occasionally',\n",
       " u'cinema',\n",
       " u'',\n",
       " u'',\n",
       " u'man',\n",
       " u'snowy',\n",
       " u'river',\n",
       " u'',\n",
       " u'zeus',\n",
       " u'roxanne',\n",
       " u'robinson',\n",
       " u'crusoe',\n",
       " u'',\n",
       " u'',\n",
       " u'',\n",
       " u'rating',\n",
       " u'',\n",
       " u'',\n",
       " u'average',\n",
       " u'',\n",
       " u'bottom',\n",
       " u'barrel',\n",
       " u'']"
      ]
     },
     "execution_count": 26,
     "metadata": {},
     "output_type": "execute_result"
    }
   ],
   "source": [
    "from nltk.corpus import stopwords\n",
    "text = text.lower().split(' ')\n",
    "text = [w for w in text if w not in stopwords.words('english')]\n",
    "text"
   ]
  },
  {
   "cell_type": "markdown",
   "metadata": {},
   "source": [
    "Joining the text again we will get sentence which contain words other than stopwords"
   ]
  },
  {
   "cell_type": "code",
   "execution_count": 27,
   "metadata": {
    "collapsed": false
   },
   "outputs": [
    {
     "data": {
      "text/plain": [
       "u'film starts manager  nicholas bell  giving welcome investors  robert carradine  primal park   secret project mutating primal animal using fossilized dna  like  jurassik park   scientists resurrect one nature fearsome predators  sabretooth tiger smilodon   scientific ambition turns deadly  however  high voltage fence opened creature escape begins savagely stalking prey   human visitors   tourists scientific meanwhile youngsters enter restricted area security center attacked pack large pre historical animals deadlier bigger   addition   security agent  stacy haiduk  mate  brian wimmer  fight hardly carnivorous smilodons  sabretooths    course  real star stars astounding terrifyingly though convincing  giant animals savagely stalking prey group run afoul fight one nature fearsome predators  furthermore third sabretooth dangerous slow stalks victims movie delivers goods lots blood gore beheading  hair raising chills full scares sabretooths appear mediocre special effects story provides exciting stirring entertainment results quite boring  giant animals majority made computer generator seem totally lousy  middling performances though players reacting appropriately becoming food actors give vigorously physical performances dodging beasts  running bound leaps dangling walls   packs ridiculous final deadly scene  small kids realistic gory violent attack scenes   films sabretooths smilodon following    sabretooth       james r hickox vanessa angel  david keith john rhys davies much better         bc        roland emmerich steven strait  cliff curtis camilla belle  motion picture filled bloody moments badly directed george miller originality takes many elements previous films  miller australian director usually working television  tidal wave  journey center earth  many others  occasionally cinema   man snowy river  zeus roxanne robinson crusoe    rating   average  bottom barrel '"
      ]
     },
     "execution_count": 27,
     "metadata": {},
     "output_type": "execute_result"
    }
   ],
   "source": [
    "' '.join(text)"
   ]
  },
  {
   "cell_type": "markdown",
   "metadata": {},
   "source": [
    "Lets store everthing in function so that we can use it."
   ]
  },
  {
   "cell_type": "code",
   "execution_count": 29,
   "metadata": {
    "collapsed": true
   },
   "outputs": [],
   "source": [
    "def data_cleaning(sentence):\n",
    "    text = BeautifulSoup(sentence).get_text()\n",
    "    text = re.sub('[^a-zA-Z]',' ',text)\n",
    "    text = text.lower()\n",
    "    text = [w for w in text.split(' ') if w not in stopwords.words('english')]\n",
    "    text = ' '.join(text)\n",
    "    return text"
   ]
  },
  {
   "cell_type": "code",
   "execution_count": 30,
   "metadata": {
    "collapsed": false
   },
   "outputs": [
    {
     "name": "stderr",
     "output_type": "stream",
     "text": [
      "/usr/local/lib/python2.7/dist-packages/ipykernel/__main__.py:3: SettingWithCopyWarning: \n",
      "A value is trying to be set on a copy of a slice from a DataFrame\n",
      "\n",
      "See the caveats in the documentation: http://pandas.pydata.org/pandas-docs/stable/indexing.html#indexing-view-versus-copy\n",
      "  app.launch_new_instance()\n"
     ]
    }
   ],
   "source": [
    "length = train.review.shape[0]\n",
    "for i in range(length):\n",
    "    train.review[i] = data_cleaning(train.review[i])"
   ]
  },
  {
   "cell_type": "markdown",
   "metadata": {},
   "source": [
    "# Bag of Words"
   ]
  },
  {
   "cell_type": "markdown",
   "metadata": {},
   "source": [
    "Bag of Words (BoW) is an algorithm that counts how many times a word appears in a document. The word count allow us to compare the documents and find their similarities.\n",
    "Example:- There are 2 sentences\n",
    "1. Ram is a boy\n",
    "2. Shyam is a good boy.\n",
    "\n",
    "Distinct words here are:-\n",
    "{Ram,is,a,boy,Shyam,good}\n",
    "\n",
    "Bag of word will count their occurances in each sentece\n",
    "1. First Sentence :- {1,1,1,1,0,0}\n",
    "2. Second Sentence :- {0,1,1,1,1,1}\n"
   ]
  },
  {
   "cell_type": "code",
   "execution_count": 32,
   "metadata": {
    "collapsed": false
   },
   "outputs": [],
   "source": [
    "from sklearn.feature_extraction.text import CountVectorizer\n",
    "vectorizer = CountVectorizer(analyzer = \"word\",tokenizer = None,preprocessor = None,stop_words = None,max_features = 5000)\n"
   ]
  },
  {
   "cell_type": "code",
   "execution_count": 35,
   "metadata": {
    "collapsed": false
   },
   "outputs": [],
   "source": [
    "reviews_vectorized = vectorizer.fit_transform(train.review.values)"
   ]
  },
  {
   "cell_type": "code",
   "execution_count": 36,
   "metadata": {
    "collapsed": false
   },
   "outputs": [
    {
     "data": {
      "text/plain": [
       "(25000, 5000)"
      ]
     },
     "execution_count": 36,
     "metadata": {},
     "output_type": "execute_result"
    }
   ],
   "source": [
    "reviews_vectorized.shape"
   ]
  },
  {
   "cell_type": "markdown",
   "metadata": {},
   "source": [
    "Loading Test Set and converting it in same form as of Training set."
   ]
  },
  {
   "cell_type": "code",
   "execution_count": 39,
   "metadata": {
    "collapsed": false
   },
   "outputs": [
    {
     "data": {
      "text/html": [
       "<div>\n",
       "<table border=\"1\" class=\"dataframe\">\n",
       "  <thead>\n",
       "    <tr style=\"text-align: right;\">\n",
       "      <th></th>\n",
       "      <th>id</th>\n",
       "      <th>review</th>\n",
       "    </tr>\n",
       "  </thead>\n",
       "  <tbody>\n",
       "    <tr>\n",
       "      <th>0</th>\n",
       "      <td>12311_10</td>\n",
       "      <td>Naturally in a film who's main themes are of m...</td>\n",
       "    </tr>\n",
       "    <tr>\n",
       "      <th>1</th>\n",
       "      <td>8348_2</td>\n",
       "      <td>This movie is a disaster within a disaster fil...</td>\n",
       "    </tr>\n",
       "    <tr>\n",
       "      <th>2</th>\n",
       "      <td>5828_4</td>\n",
       "      <td>All in all, this is a movie for kids. We saw i...</td>\n",
       "    </tr>\n",
       "    <tr>\n",
       "      <th>3</th>\n",
       "      <td>7186_2</td>\n",
       "      <td>Afraid of the Dark left me with the impression...</td>\n",
       "    </tr>\n",
       "    <tr>\n",
       "      <th>4</th>\n",
       "      <td>12128_7</td>\n",
       "      <td>A very accurate depiction of small time mob li...</td>\n",
       "    </tr>\n",
       "  </tbody>\n",
       "</table>\n",
       "</div>"
      ],
      "text/plain": [
       "         id                                             review\n",
       "0  12311_10  Naturally in a film who's main themes are of m...\n",
       "1    8348_2  This movie is a disaster within a disaster fil...\n",
       "2    5828_4  All in all, this is a movie for kids. We saw i...\n",
       "3    7186_2  Afraid of the Dark left me with the impression...\n",
       "4   12128_7  A very accurate depiction of small time mob li..."
      ]
     },
     "execution_count": 39,
     "metadata": {},
     "output_type": "execute_result"
    }
   ],
   "source": [
    "test = pd.read_csv('testData.tsv',delimiter='\\t')\n",
    "test.head()"
   ]
  },
  {
   "cell_type": "code",
   "execution_count": 40,
   "metadata": {
    "collapsed": false
   },
   "outputs": [],
   "source": [
    "length = train.review.shape[0]\n",
    "for i in range(length):\n",
    "    test.review[i] = data_cleaning(test.review[i])"
   ]
  },
  {
   "cell_type": "code",
   "execution_count": 41,
   "metadata": {
    "collapsed": false
   },
   "outputs": [
    {
     "data": {
      "text/plain": [
       "(25000, 5000)"
      ]
     },
     "execution_count": 41,
     "metadata": {},
     "output_type": "execute_result"
    }
   ],
   "source": [
    "test_reviews_vectorized = vectorizer.fit_transform(test.review.values)\n",
    "test_reviews_vectorized.shape"
   ]
  },
  {
   "cell_type": "markdown",
   "metadata": {},
   "source": [
    "Now, We have shaped both training data as well as testing data. Its time to apply Machine learning now. Lets apply random Forest.\n",
    "We will be using Sklearn library for machine learning."
   ]
  },
  {
   "cell_type": "code",
   "execution_count": 42,
   "metadata": {
    "collapsed": true
   },
   "outputs": [],
   "source": [
    "from sklearn.ensemble import RandomForestClassifier"
   ]
  },
  {
   "cell_type": "code",
   "execution_count": 72,
   "metadata": {
    "collapsed": true
   },
   "outputs": [],
   "source": [
    "#First we create a classifier\n",
    "classifier = RandomForestClassifier(n_estimators= 100,n_jobs=3)"
   ]
  },
  {
   "cell_type": "code",
   "execution_count": 53,
   "metadata": {
    "collapsed": false
   },
   "outputs": [],
   "source": [
    "#Lets fit the Random Forest Classifier to our training dataset\n",
    "classifier.fit(reviews_vectorized,train.sentiment)\n",
    "#Testing the classifier on test dataset\n",
    "predictions = classifier.predict(test_reviews_vectorized)"
   ]
  },
  {
   "cell_type": "code",
   "execution_count": 55,
   "metadata": {
    "collapsed": true
   },
   "outputs": [],
   "source": [
    "output = pd.DataFrame( data={\"id\":test[\"id\"], \"sentiment\":predictions} )\n",
    "output.to_csv( \"Bag_of_Words_model.csv\", index=False, quoting=3 )"
   ]
  },
  {
   "cell_type": "markdown",
   "metadata": {},
   "source": [
    "##### 60 percent accuracy is achieved.\n"
   ]
  },
  {
   "cell_type": "markdown",
   "metadata": {},
   "source": [
    "# Lemmatization\n",
    "To increase accuracy , lets do tokenization of the data"
   ]
  },
  {
   "cell_type": "code",
   "execution_count": 57,
   "metadata": {
    "collapsed": false
   },
   "outputs": [
    {
     "data": {
      "text/html": [
       "<div>\n",
       "<table border=\"1\" class=\"dataframe\">\n",
       "  <thead>\n",
       "    <tr style=\"text-align: right;\">\n",
       "      <th></th>\n",
       "      <th>id</th>\n",
       "      <th>sentiment</th>\n",
       "      <th>review</th>\n",
       "    </tr>\n",
       "  </thead>\n",
       "  <tbody>\n",
       "    <tr>\n",
       "      <th>0</th>\n",
       "      <td>5814_8</td>\n",
       "      <td>1</td>\n",
       "      <td>stuff going moment mj started listening music ...</td>\n",
       "    </tr>\n",
       "    <tr>\n",
       "      <th>1</th>\n",
       "      <td>2381_9</td>\n",
       "      <td>1</td>\n",
       "      <td>classic war worlds   timothy hines entertaini...</td>\n",
       "    </tr>\n",
       "    <tr>\n",
       "      <th>2</th>\n",
       "      <td>7759_3</td>\n",
       "      <td>0</td>\n",
       "      <td>film starts manager  nicholas bell  giving wel...</td>\n",
       "    </tr>\n",
       "    <tr>\n",
       "      <th>3</th>\n",
       "      <td>3630_4</td>\n",
       "      <td>0</td>\n",
       "      <td>must assumed praised film   greatest filmed op...</td>\n",
       "    </tr>\n",
       "    <tr>\n",
       "      <th>4</th>\n",
       "      <td>9495_8</td>\n",
       "      <td>1</td>\n",
       "      <td>superbly trashy wondrously unpretentious    ex...</td>\n",
       "    </tr>\n",
       "  </tbody>\n",
       "</table>\n",
       "</div>"
      ],
      "text/plain": [
       "       id  sentiment                                             review\n",
       "0  5814_8          1  stuff going moment mj started listening music ...\n",
       "1  2381_9          1   classic war worlds   timothy hines entertaini...\n",
       "2  7759_3          0  film starts manager  nicholas bell  giving wel...\n",
       "3  3630_4          0  must assumed praised film   greatest filmed op...\n",
       "4  9495_8          1  superbly trashy wondrously unpretentious    ex..."
      ]
     },
     "execution_count": 57,
     "metadata": {},
     "output_type": "execute_result"
    }
   ],
   "source": [
    "train.head()"
   ]
  },
  {
   "cell_type": "code",
   "execution_count": 58,
   "metadata": {
    "collapsed": true
   },
   "outputs": [],
   "source": [
    "from spacy.en import English\n",
    "parser = English()"
   ]
  },
  {
   "cell_type": "code",
   "execution_count": 65,
   "metadata": {
    "collapsed": false
   },
   "outputs": [
    {
     "name": "stderr",
     "output_type": "stream",
     "text": [
      "/usr/local/lib/python2.7/dist-packages/ipykernel/__main__.py:6: SettingWithCopyWarning: \n",
      "A value is trying to be set on a copy of a slice from a DataFrame\n",
      "\n",
      "See the caveats in the documentation: http://pandas.pydata.org/pandas-docs/stable/indexing.html#indexing-view-versus-copy\n"
     ]
    }
   ],
   "source": [
    "length = train.review.shape[0]\n",
    "for i in range(length):\n",
    "    parsedData = parser(unicode(train.review[i]))\n",
    "    word = [token.lemma_ for token in parsedData]\n",
    "    sentence = ' '.join(word)\n",
    "    train.review[i] = sentence"
   ]
  },
  {
   "cell_type": "code",
   "execution_count": 66,
   "metadata": {
    "collapsed": true
   },
   "outputs": [],
   "source": [
    "length = test.review.shape[0]\n",
    "for i in range(length):\n",
    "    parsedData = parser(unicode(test.review[i]))\n",
    "    word = [token.lemma_ for token in parsedData]\n",
    "    sentence = ' '.join(word)\n",
    "    test.review[i] = sentence"
   ]
  },
  {
   "cell_type": "code",
   "execution_count": 69,
   "metadata": {
    "collapsed": true
   },
   "outputs": [],
   "source": [
    "reviews_vectorized = vectorizer.fit_transform(train.review.values)\n",
    "test_reviews_vectorized = vectorizer.fit_transform(test.review.values)"
   ]
  },
  {
   "cell_type": "code",
   "execution_count": 73,
   "metadata": {
    "collapsed": true
   },
   "outputs": [],
   "source": [
    "#Lets fit the Random Forest Classifier to our training dataset\n",
    "classifier.fit(reviews_vectorized,train.sentiment)\n",
    "#Testing the classifier on test dataset\n",
    "predictions = classifier.predict(test_reviews_vectorized)"
   ]
  },
  {
   "cell_type": "code",
   "execution_count": 75,
   "metadata": {
    "collapsed": true
   },
   "outputs": [],
   "source": [
    "output = pd.DataFrame( data={\"id\":test[\"id\"], \"sentiment\":predictions} )\n",
    "output.to_csv( \"Bag_of_Words_model1.csv\", index=False, quoting=3 )"
   ]
  },
  {
   "cell_type": "markdown",
   "metadata": {},
   "source": [
    "#### 54% accuracy"
   ]
  },
  {
   "cell_type": "markdown",
   "metadata": {},
   "source": [
    "This accuracy is less than the accuracy I achieved above which was 60 percent. This accuracy can be increased by selecting features via cross validation and applying Machine learning with better parameters.I will be working on that to increase accuracy and try different models."
   ]
  },
  {
   "cell_type": "code",
   "execution_count": null,
   "metadata": {
    "collapsed": true
   },
   "outputs": [],
   "source": []
  }
 ],
 "metadata": {
  "kernelspec": {
   "display_name": "Python 2",
   "language": "python",
   "name": "python2"
  },
  "language_info": {
   "codemirror_mode": {
    "name": "ipython",
    "version": 2
   },
   "file_extension": ".py",
   "mimetype": "text/x-python",
   "name": "python",
   "nbconvert_exporter": "python",
   "pygments_lexer": "ipython2",
   "version": "2.7.6"
  }
 },
 "nbformat": 4,
 "nbformat_minor": 0
}
